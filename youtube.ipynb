{
 "cells": [
  {
   "cell_type": "code",
   "execution_count": 19,
   "metadata": {},
   "outputs": [],
   "source": [
    "import os.path\n",
    "\n",
    "from google.auth.transport.requests import Request\n",
    "from google.oauth2.credentials import Credentials\n",
    "from google_auth_oauthlib.flow import InstalledAppFlow\n",
    "from googleapiclient.discovery import build\n",
    "from googleapiclient.errors import HttpError\n",
    "from apiclient.http import MediaFileUpload\n",
    "# If modifying these scopes, delete the file token.json.\n",
    "SCOPES = ['https://www.googleapis.com/auth/drive.metadata.readonly'\n",
    "          , 'https://www.googleapis.com/auth/drive'\n",
    "          , 'https://www.googleapis.com/auth/youtube']"
   ]
  },
  {
   "cell_type": "code",
   "execution_count": 40,
   "metadata": {},
   "outputs": [
    {
     "name": "stdout",
     "output_type": "stream",
     "text": [
      "Please visit this URL to authorize this application: https://accounts.google.com/o/oauth2/auth?response_type=code&client_id=92784570709-gg71nkh6isgt56vag26h3foksfh7k0j7.apps.googleusercontent.com&redirect_uri=http%3A%2F%2Flocalhost%3A55913%2F&scope=https%3A%2F%2Fwww.googleapis.com%2Fauth%2Fdrive.metadata.readonly+https%3A%2F%2Fwww.googleapis.com%2Fauth%2Fdrive+https%3A%2F%2Fwww.googleapis.com%2Fauth%2Fyoutube&state=VOACYbGDydJZdFVQhYrvH2UETEs2bZ&access_type=offline\n"
     ]
    }
   ],
   "source": [
    "creds = None\n",
    "# The file token.json stores the user's access and refresh tokens, and is\n",
    "# created automatically when the authorization flow completes for the first\n",
    "# time.\n",
    "if os.path.exists('token.json'):\n",
    "    creds = Credentials.from_authorized_user_file('token.json', SCOPES)\n",
    "# If there are no (valid) credentials available, let the user log in.\n",
    "if not creds or not creds.valid:\n",
    "    if creds and creds.expired and creds.refresh_token:\n",
    "        creds.refresh(Request())\n",
    "    else:\n",
    "        flow = InstalledAppFlow.from_client_secrets_file(\n",
    "            'credentials.json', SCOPES)\n",
    "        creds = flow.run_local_server(port=0)\n",
    "    # Save the credentials for the next run\n",
    "    with open('token.json', 'w') as token:\n",
    "        token.write(creds.to_json())"
   ]
  },
  {
   "cell_type": "code",
   "execution_count": 41,
   "metadata": {},
   "outputs": [],
   "source": [
    "youtube = build('youtube', 'v3', credentials=creds)"
   ]
  },
  {
   "cell_type": "code",
   "execution_count": null,
   "metadata": {},
   "outputs": [],
   "source": [
    "import http.client as httplib\n",
    "RETRIABLE_EXCEPTIONS = (httplib2.HttpLib2Error, IOError, httplib.NotConnected,\n",
    "  httplib.IncompleteRead, httplib.ImproperConnectionState,\n",
    "  httplib.CannotSendRequest, httplib.CannotSendHeader,\n",
    "  httplib.ResponseNotReady, httplib.BadStatusLine)\n",
    "RETRIABLE_STATUS_CODES = [500, 502, 503, 504]\n",
    "MAX_RETRIES = 10"
   ]
  },
  {
   "cell_type": "code",
   "execution_count": 60,
   "metadata": {},
   "outputs": [],
   "source": [
    "def initialize_upload(youtube, options):\n",
    "\n",
    "  body=dict(\n",
    "    snippet=dict(\n",
    "      title='Python test',\n",
    "      description='Python test',\n",
    "      tags='',\n",
    "      categoryId='22'\n",
    "    ),\n",
    "    status=dict(\n",
    "      privacyStatus='unlisted'\n",
    "    )\n",
    "\n",
    "  )\n",
    "\n",
    "  # Call the API's videos.insert method to create and upload the video.\n",
    "  insert_request = youtube.videos().insert(\n",
    "    part=\",\".join(body.keys()),\n",
    "    body=body,\n",
    "    # The chunksize parameter specifies the size of each chunk of data, in\n",
    "    # bytes, that will be uploaded at a time. Set a higher value for\n",
    "    # reliable connections as fewer chunks lead to faster uploads. Set a lower\n",
    "    # value for better recovery on less reliable connections.\n",
    "    #\n",
    "    # Setting \"chunksize\" equal to -1 in the code below means that the entire\n",
    "    # file will be uploaded in a single HTTP request. (If the upload fails,\n",
    "    # it will still be retried where it left off.) This is usually a best\n",
    "    # practice, but if you're using Python older than 2.6 or if you're\n",
    "    # running on App Engine, you should set the chunksize to something like\n",
    "    # 1024 * 1024 (1 megabyte).\n",
    "    media_body=MediaFileUpload(options['file'], chunksize=1024*1024, mimetype='video/quicktime', resumable=True)\n",
    "  )\n",
    "  resumable_upload(insert_request)"
   ]
  },
  {
   "cell_type": "code",
   "execution_count": 57,
   "metadata": {},
   "outputs": [],
   "source": [
    "import random \n",
    "import time"
   ]
  },
  {
   "cell_type": "code",
   "execution_count": 58,
   "metadata": {},
   "outputs": [],
   "source": [
    "def resumable_upload(insert_request):\n",
    "  response = None\n",
    "  error = None\n",
    "  retry = 0\n",
    "  while response is None:\n",
    "    try:\n",
    "      print(\"Uploading file...\")\n",
    "      status, response = insert_request.next_chunk()\n",
    "      if response is not None:\n",
    "        if 'id' in response:\n",
    "          print(\"Video id '%s' was successfully uploaded.\" % response['id'])\n",
    "        else:\n",
    "          exit(\"The upload failed with an unexpected response: %s\" % response)\n",
    "    except HttpError as e:\n",
    "      if e.resp.status in RETRIABLE_STATUS_CODES:\n",
    "        error = \"A retriable HTTP error %d occurred:\\n%s\" % (e.resp.status,\n",
    "                                                             e.content)\n",
    "      else:\n",
    "        raise\n",
    "    except RETRIABLE_EXCEPTIONS as e:\n",
    "      error = \"A retriable error occurred: %s\" % e\n",
    "\n",
    "    if error is not None:\n",
    "      print(error)\n",
    "      retry += 1\n",
    "      if retry > MAX_RETRIES:\n",
    "        exit(\"No longer attempting to retry.\")\n",
    "\n",
    "      max_sleep = 2 ** retry\n",
    "      sleep_seconds = random.random() * max_sleep\n",
    "      print(\"Sleeping %f seconds and then retrying...\" % sleep_seconds)\n",
    "      time.sleep(sleep_seconds)"
   ]
  },
  {
   "cell_type": "code",
   "execution_count": 62,
   "metadata": {},
   "outputs": [
    {
     "name": "stdout",
     "output_type": "stream",
     "text": [
      "Uploading file...\n",
      "Uploading file...\n",
      "Uploading file...\n",
      "Video id 'LmTuKheJzAk' was successfully uploaded.\n"
     ]
    }
   ],
   "source": [
    "initialize_upload(youtube, {'file':'./video_cache/video.mp4'})"
   ]
  },
  {
   "cell_type": "code",
   "execution_count": null,
   "metadata": {},
   "outputs": [],
   "source": []
  }
 ],
 "metadata": {
  "kernelspec": {
   "display_name": "Python 3.8.8 ('mypython': venv)",
   "language": "python",
   "name": "python3"
  },
  "language_info": {
   "codemirror_mode": {
    "name": "ipython",
    "version": 3
   },
   "file_extension": ".py",
   "mimetype": "text/x-python",
   "name": "python",
   "nbconvert_exporter": "python",
   "pygments_lexer": "ipython3",
   "version": "3.8.8"
  },
  "orig_nbformat": 4,
  "vscode": {
   "interpreter": {
    "hash": "4a70e1b6b77ccdb82bff94a9fb2379f91cc95aeb9d5c11ab66ef65b3100658e1"
   }
  }
 },
 "nbformat": 4,
 "nbformat_minor": 2
}
