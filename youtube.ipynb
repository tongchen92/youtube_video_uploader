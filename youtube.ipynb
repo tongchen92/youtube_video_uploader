{
 "cells": [
  {
   "cell_type": "code",
   "execution_count": 4,
   "metadata": {},
   "outputs": [],
   "source": [
    "import os.path\n",
    "\n",
    "from google.auth.transport.requests import Request\n",
    "from google.oauth2.credentials import Credentials\n",
    "from google_auth_oauthlib.flow import InstalledAppFlow\n",
    "from googleapiclient.discovery import build\n",
    "from googleapiclient.errors import HttpError\n",
    "from apiclient.http import MediaFileUpload\n",
    "# If modifying these scopes, delete the file token.json.\n",
    "SCOPES = ['https://www.googleapis.com/auth/drive.metadata.readonly'\n",
    "          , 'https://www.googleapis.com/auth/drive'\n",
    "          , 'https://www.googleapis.com/auth/youtube']"
   ]
  },
  {
   "cell_type": "code",
   "execution_count": 13,
   "metadata": {},
   "outputs": [],
   "source": [
    "creds = None\n",
    "# The file token.json stores the user's access and refresh tokens, and is\n",
    "# created automatically when the authorization flow completes for the first\n",
    "# time.\n",
    "if os.path.exists('token.json'):\n",
    "    creds = Credentials.from_authorized_user_file('token.json', SCOPES)\n",
    "# If there are no (valid) credentials available, let the user log in.\n",
    "if not creds or not creds.valid:\n",
    "    if creds and creds.expired and creds.refresh_token:\n",
    "        creds.refresh(Request())\n",
    "    else:\n",
    "        flow = InstalledAppFlow.from_client_secrets_file(\n",
    "            'credentials.json', SCOPES)\n",
    "        creds = flow.run_local_server(port=0)\n",
    "    # Save the credentials for the next run\n",
    "    with open('token.json', 'w') as token:\n",
    "        token.write(creds.to_json())"
   ]
  },
  {
   "cell_type": "code",
   "execution_count": 14,
   "metadata": {},
   "outputs": [],
   "source": [
    "youtube = build('youtube', 'v3', credentials=creds)"
   ]
  },
  {
   "cell_type": "code",
   "execution_count": 16,
   "metadata": {},
   "outputs": [],
   "source": [
    "import http.client as httplib\n",
    "import httplib2\n",
    "RETRIABLE_EXCEPTIONS = (httplib2.HttpLib2Error, IOError, httplib.NotConnected,\n",
    "  httplib.IncompleteRead, httplib.ImproperConnectionState,\n",
    "  httplib.CannotSendRequest, httplib.CannotSendHeader,\n",
    "  httplib.ResponseNotReady, httplib.BadStatusLine)\n",
    "RETRIABLE_STATUS_CODES = [500, 502, 503, 504]\n",
    "MAX_RETRIES = 10"
   ]
  },
  {
   "cell_type": "code",
   "execution_count": 17,
   "metadata": {},
   "outputs": [],
   "source": [
    "def initialize_upload(youtube, options):\n",
    "\n",
    "  body=dict(\n",
    "    snippet=dict(\n",
    "      title='Python test',\n",
    "      description='Python test',\n",
    "      tags='',\n",
    "      categoryId='22'\n",
    "    ),\n",
    "    status=dict(\n",
    "      privacyStatus='unlisted'\n",
    "    )\n",
    "\n",
    "  )\n",
    "\n",
    "  # Call the API's videos.insert method to create and upload the video.\n",
    "  insert_request = youtube.videos().insert(\n",
    "    part=\",\".join(body.keys()),\n",
    "    body=body,\n",
    "    # The chunksize parameter specifies the size of each chunk of data, in\n",
    "    # bytes, that will be uploaded at a time. Set a higher value for\n",
    "    # reliable connections as fewer chunks lead to faster uploads. Set a lower\n",
    "    # value for better recovery on less reliable connections.\n",
    "    #\n",
    "    # Setting \"chunksize\" equal to -1 in the code below means that the entire\n",
    "    # file will be uploaded in a single HTTP request. (If the upload fails,\n",
    "    # it will still be retried where it left off.) This is usually a best\n",
    "    # practice, but if you're using Python older than 2.6 or if you're\n",
    "    # running on App Engine, you should set the chunksize to something like\n",
    "    # 1024 * 1024 (1 megabyte).\n",
    "    media_body=MediaFileUpload(options['file'], chunksize=1024*1024, mimetype='video/quicktime', resumable=True)\n",
    "  )\n",
    "  resumable_upload(insert_request)"
   ]
  },
  {
   "cell_type": "code",
   "execution_count": 18,
   "metadata": {},
   "outputs": [],
   "source": [
    "import random \n",
    "import time"
   ]
  },
  {
   "cell_type": "code",
   "execution_count": 19,
   "metadata": {},
   "outputs": [],
   "source": [
    "def resumable_upload(insert_request):\n",
    "  response = None\n",
    "  error = None\n",
    "  retry = 0\n",
    "  while response is None:\n",
    "    try:\n",
    "      print(\"Uploading file...\")\n",
    "      status, response = insert_request.next_chunk()\n",
    "      if response is not None:\n",
    "        if 'id' in response:\n",
    "          print(\"Video id '%s' was successfully uploaded.\" % response['id'])\n",
    "        else:\n",
    "          exit(\"The upload failed with an unexpected response: %s\" % response)\n",
    "    except HttpError as e:\n",
    "      if e.resp.status in RETRIABLE_STATUS_CODES:\n",
    "        error = \"A retriable HTTP error %d occurred:\\n%s\" % (e.resp.status,\n",
    "                                                             e.content)\n",
    "      else:\n",
    "        raise\n",
    "    except RETRIABLE_EXCEPTIONS as e:\n",
    "      error = \"A retriable error occurred: %s\" % e\n",
    "\n",
    "    if error is not None:\n",
    "      print(error)\n",
    "      retry += 1\n",
    "      if retry > MAX_RETRIES:\n",
    "        exit(\"No longer attempting to retry.\")\n",
    "\n",
    "      max_sleep = 2 ** retry\n",
    "      sleep_seconds = random.random() * max_sleep\n",
    "      print(\"Sleeping %f seconds and then retrying...\" % sleep_seconds)\n",
    "      time.sleep(sleep_seconds)"
   ]
  },
  {
   "cell_type": "code",
   "execution_count": 20,
   "metadata": {},
   "outputs": [
    {
     "name": "stdout",
     "output_type": "stream",
     "text": [
      "Uploading file...\n"
     ]
    },
    {
     "ename": "ResumableUploadError",
     "evalue": "<HttpError 400 when requesting None returned \"The user has exceeded the number of videos they may upload.\". Details: \"[{'message': 'The user has exceeded the number of videos they may upload.', 'domain': 'youtube.video', 'reason': 'uploadLimitExceeded'}]\">",
     "output_type": "error",
     "traceback": [
      "\u001b[0;31m---------------------------------------------------------------------------\u001b[0m",
      "\u001b[0;31mResumableUploadError\u001b[0m                      Traceback (most recent call last)",
      "Cell \u001b[0;32mIn [20], line 1\u001b[0m\n\u001b[0;32m----> 1\u001b[0m initialize_upload(youtube, {\u001b[39m'\u001b[39;49m\u001b[39mfile\u001b[39;49m\u001b[39m'\u001b[39;49m:\u001b[39m'\u001b[39;49m\u001b[39m./video_cache/群英会决赛林怂-剪辑字幕磨皮.MOV\u001b[39;49m\u001b[39m'\u001b[39;49m})\n",
      "Cell \u001b[0;32mIn [17], line 33\u001b[0m, in \u001b[0;36minitialize_upload\u001b[0;34m(youtube, options)\u001b[0m\n\u001b[1;32m     16\u001b[0m \u001b[39m# Call the API's videos.insert method to create and upload the video.\u001b[39;00m\n\u001b[1;32m     17\u001b[0m insert_request \u001b[39m=\u001b[39m youtube\u001b[39m.\u001b[39mvideos()\u001b[39m.\u001b[39minsert(\n\u001b[1;32m     18\u001b[0m   part\u001b[39m=\u001b[39m\u001b[39m\"\u001b[39m\u001b[39m,\u001b[39m\u001b[39m\"\u001b[39m\u001b[39m.\u001b[39mjoin(body\u001b[39m.\u001b[39mkeys()),\n\u001b[1;32m     19\u001b[0m   body\u001b[39m=\u001b[39mbody,\n\u001b[0;32m   (...)\u001b[0m\n\u001b[1;32m     31\u001b[0m   media_body\u001b[39m=\u001b[39mMediaFileUpload(options[\u001b[39m'\u001b[39m\u001b[39mfile\u001b[39m\u001b[39m'\u001b[39m], chunksize\u001b[39m=\u001b[39m\u001b[39m1024\u001b[39m\u001b[39m*\u001b[39m\u001b[39m1024\u001b[39m, mimetype\u001b[39m=\u001b[39m\u001b[39m'\u001b[39m\u001b[39mvideo/quicktime\u001b[39m\u001b[39m'\u001b[39m, resumable\u001b[39m=\u001b[39m\u001b[39mTrue\u001b[39;00m)\n\u001b[1;32m     32\u001b[0m )\n\u001b[0;32m---> 33\u001b[0m resumable_upload(insert_request)\n",
      "Cell \u001b[0;32mIn [19], line 8\u001b[0m, in \u001b[0;36mresumable_upload\u001b[0;34m(insert_request)\u001b[0m\n\u001b[1;32m      6\u001b[0m \u001b[39mtry\u001b[39;00m:\n\u001b[1;32m      7\u001b[0m   \u001b[39mprint\u001b[39m(\u001b[39m\"\u001b[39m\u001b[39mUploading file...\u001b[39m\u001b[39m\"\u001b[39m)\n\u001b[0;32m----> 8\u001b[0m   status, response \u001b[39m=\u001b[39m insert_request\u001b[39m.\u001b[39;49mnext_chunk()\n\u001b[1;32m      9\u001b[0m   \u001b[39mif\u001b[39;00m response \u001b[39mis\u001b[39;00m \u001b[39mnot\u001b[39;00m \u001b[39mNone\u001b[39;00m:\n\u001b[1;32m     10\u001b[0m     \u001b[39mif\u001b[39;00m \u001b[39m'\u001b[39m\u001b[39mid\u001b[39m\u001b[39m'\u001b[39m \u001b[39min\u001b[39;00m response:\n",
      "File \u001b[0;32m~/Documents/projects/youtube_video_uploader/mypython/lib/python3.8/site-packages/googleapiclient/_helpers.py:130\u001b[0m, in \u001b[0;36mpositional.<locals>.positional_decorator.<locals>.positional_wrapper\u001b[0;34m(*args, **kwargs)\u001b[0m\n\u001b[1;32m    128\u001b[0m     \u001b[39melif\u001b[39;00m positional_parameters_enforcement \u001b[39m==\u001b[39m POSITIONAL_WARNING:\n\u001b[1;32m    129\u001b[0m         logger\u001b[39m.\u001b[39mwarning(message)\n\u001b[0;32m--> 130\u001b[0m \u001b[39mreturn\u001b[39;00m wrapped(\u001b[39m*\u001b[39;49margs, \u001b[39m*\u001b[39;49m\u001b[39m*\u001b[39;49mkwargs)\n",
      "File \u001b[0;32m~/Documents/projects/youtube_video_uploader/mypython/lib/python3.8/site-packages/googleapiclient/http.py:1022\u001b[0m, in \u001b[0;36mHttpRequest.next_chunk\u001b[0;34m(self, http, num_retries)\u001b[0m\n\u001b[1;32m   1020\u001b[0m         \u001b[39mself\u001b[39m\u001b[39m.\u001b[39mresumable_uri \u001b[39m=\u001b[39m resp[\u001b[39m\"\u001b[39m\u001b[39mlocation\u001b[39m\u001b[39m\"\u001b[39m]\n\u001b[1;32m   1021\u001b[0m     \u001b[39melse\u001b[39;00m:\n\u001b[0;32m-> 1022\u001b[0m         \u001b[39mraise\u001b[39;00m ResumableUploadError(resp, content)\n\u001b[1;32m   1023\u001b[0m \u001b[39melif\u001b[39;00m \u001b[39mself\u001b[39m\u001b[39m.\u001b[39m_in_error_state:\n\u001b[1;32m   1024\u001b[0m     \u001b[39m# If we are in an error state then query the server for current state of\u001b[39;00m\n\u001b[1;32m   1025\u001b[0m     \u001b[39m# the upload by sending an empty PUT and reading the 'range' header in\u001b[39;00m\n\u001b[1;32m   1026\u001b[0m     \u001b[39m# the response.\u001b[39;00m\n\u001b[1;32m   1027\u001b[0m     headers \u001b[39m=\u001b[39m {\u001b[39m\"\u001b[39m\u001b[39mContent-Range\u001b[39m\u001b[39m\"\u001b[39m: \u001b[39m\"\u001b[39m\u001b[39mbytes */\u001b[39m\u001b[39m%s\u001b[39;00m\u001b[39m\"\u001b[39m \u001b[39m%\u001b[39m size, \u001b[39m\"\u001b[39m\u001b[39mcontent-length\u001b[39m\u001b[39m\"\u001b[39m: \u001b[39m\"\u001b[39m\u001b[39m0\u001b[39m\u001b[39m\"\u001b[39m}\n",
      "\u001b[0;31mResumableUploadError\u001b[0m: <HttpError 400 when requesting None returned \"The user has exceeded the number of videos they may upload.\". Details: \"[{'message': 'The user has exceeded the number of videos they may upload.', 'domain': 'youtube.video', 'reason': 'uploadLimitExceeded'}]\">"
     ]
    }
   ],
   "source": [
    "initialize_upload(youtube, {'file':'./video_cache/群英会决赛林怂-剪辑字幕磨皮.MOV'})"
   ]
  },
  {
   "cell_type": "code",
   "execution_count": null,
   "metadata": {},
   "outputs": [],
   "source": []
  }
 ],
 "metadata": {
  "kernelspec": {
   "display_name": "Python 3.8.8 ('mypython': venv)",
   "language": "python",
   "name": "python3"
  },
  "language_info": {
   "codemirror_mode": {
    "name": "ipython",
    "version": 3
   },
   "file_extension": ".py",
   "mimetype": "text/x-python",
   "name": "python",
   "nbconvert_exporter": "python",
   "pygments_lexer": "ipython3",
   "version": "3.8.8"
  },
  "orig_nbformat": 4,
  "vscode": {
   "interpreter": {
    "hash": "4a70e1b6b77ccdb82bff94a9fb2379f91cc95aeb9d5c11ab66ef65b3100658e1"
   }
  }
 },
 "nbformat": 4,
 "nbformat_minor": 2
}
