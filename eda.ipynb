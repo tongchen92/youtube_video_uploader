{
 "cells": [
  {
   "cell_type": "code",
   "execution_count": 24,
   "metadata": {},
   "outputs": [],
   "source": [
    "import io"
   ]
  },
  {
   "cell_type": "code",
   "execution_count": 25,
   "metadata": {},
   "outputs": [],
   "source": [
    "import google.auth\n",
    "from googleapiclient.discovery import build\n",
    "from googleapiclient.errors import HttpError\n",
    "from googleapiclient.http import MediaIoBaseDownload\n",
    "from apiclient import errors\n",
    "from apiclient import http"
   ]
  },
  {
   "cell_type": "code",
   "execution_count": 27,
   "metadata": {},
   "outputs": [],
   "source": [
    "def download_file(real_file_id):\n",
    "    \"\"\"Downloads a file\n",
    "    Args:\n",
    "        real_file_id: ID of the file to download\n",
    "    Returns : IO object with location.\n",
    "\n",
    "    Load pre-authorized user credentials from the environment.\n",
    "    TODO(developer) - See https://developers.google.com/identity\n",
    "    for guides on implementing OAuth2 for the application.\n",
    "    \"\"\"\n",
    "    creds, _ = google.auth.default()\n",
    "\n",
    "    try:\n",
    "        # create drive api client\n",
    "        service = build('drive', 'v3', credentials=creds)\n",
    "\n",
    "        file_id = real_file_id\n",
    "\n",
    "        # pylint: disable=maybe-no-member\n",
    "        request = service.files().get_media(fileId=file_id)\n",
    "        file = io.BytesIO()\n",
    "        downloader = MediaIoBaseDownload(file, request)\n",
    "        done = False\n",
    "        while done is False:\n",
    "            status, done = downloader.next_chunk()\n",
    "            print(F'Download {int(status.progress() * 100)}.')\n",
    "\n",
    "    except HttpError as error:\n",
    "        print(F'An error occurred: {error}')\n",
    "        file = None\n",
    "\n",
    "    return file.getvalue()"
   ]
  },
  {
   "cell_type": "code",
   "execution_count": 13,
   "metadata": {},
   "outputs": [],
   "source": [
    "import os.path\n",
    "\n",
    "from google.auth.transport.requests import Request\n",
    "from google.oauth2.credentials import Credentials\n",
    "from google_auth_oauthlib.flow import InstalledAppFlow\n",
    "from googleapiclient.discovery import build\n",
    "from googleapiclient.errors import HttpError\n",
    "\n",
    "# If modifying these scopes, delete the file token.json.\n",
    "SCOPES = ['https://www.googleapis.com/auth/drive.metadata.readonly'\n",
    "          , 'https://www.googleapis.com/auth/drive'\n",
    "          , 'https://www.googleapis.com/auth/youtube']"
   ]
  },
  {
   "cell_type": "code",
   "execution_count": 19,
   "metadata": {},
   "outputs": [
    {
     "name": "stdout",
     "output_type": "stream",
     "text": [
      "Please visit this URL to authorize this application: https://accounts.google.com/o/oauth2/auth?response_type=code&client_id=92784570709-gg71nkh6isgt56vag26h3foksfh7k0j7.apps.googleusercontent.com&redirect_uri=http%3A%2F%2Flocalhost%3A53227%2F&scope=https%3A%2F%2Fwww.googleapis.com%2Fauth%2Fdrive.metadata.readonly+https%3A%2F%2Fwww.googleapis.com%2Fauth%2Fdrive&state=GzKcsZ03REUH5avM9fy7umMQZpjWvC&access_type=offline\n"
     ]
    }
   ],
   "source": [
    "creds = None\n",
    "# The file token.json stores the user's access and refresh tokens, and is\n",
    "# created automatically when the authorization flow completes for the first\n",
    "# time.\n",
    "if os.path.exists('token.json'):\n",
    "    creds = Credentials.from_authorized_user_file('token.json', SCOPES)\n",
    "# If there are no (valid) credentials available, let the user log in.\n",
    "if not creds or not creds.valid:\n",
    "    if creds and creds.expired and creds.refresh_token:\n",
    "        creds.refresh(Request())\n",
    "    else:\n",
    "        flow = InstalledAppFlow.from_client_secrets_file(\n",
    "            'credentials.json', SCOPES)\n",
    "        creds = flow.run_local_server(port=0)\n",
    "    # Save the credentials for the next run\n",
    "    with open('token.json', 'w') as token:\n",
    "        token.write(creds.to_json())"
   ]
  },
  {
   "cell_type": "code",
   "execution_count": 52,
   "metadata": {},
   "outputs": [],
   "source": [
    "drive = build('drive', 'v3', credentials=creds)\n",
    "sheet = build('sheets', 'v4', credentials=creds).spreadsheets()"
   ]
  },
  {
   "cell_type": "code",
   "execution_count": null,
   "metadata": {},
   "outputs": [],
   "source": [
    "sheet = build('sheets', 'v4', credentials=creds).spreadsheets()"
   ]
  },
  {
   "cell_type": "code",
   "execution_count": 96,
   "metadata": {},
   "outputs": [],
   "source": [
    "metadata = drive.files().get(fileId='1hn4sMoIY4t0g68QiUCFL1D7T2AsU0Pjt').execute()"
   ]
  },
  {
   "cell_type": "code",
   "execution_count": 83,
   "metadata": {},
   "outputs": [],
   "source": [
    "from pathlib import Path"
   ]
  },
  {
   "cell_type": "code",
   "execution_count": 100,
   "metadata": {},
   "outputs": [],
   "source": [
    "def download_video(drive, file_id):\n",
    "    metadata = drive.files().get(fileId=file_id).execute()\n",
    "    name = metadata['name']\n",
    "    request = drive.files().get_media(fileId=file_id)\n",
    "    file = io.BytesIO()\n",
    "    downloader = MediaIoBaseDownload(file, request)\n",
    "    done = False\n",
    "    while done is False:\n",
    "        status, done = downloader.next_chunk()\n",
    "        print(F'Download {int(status.progress() * 100)}.')\n",
    "    Path(f\"./video_cache/{name}\").write_bytes(file.getbuffer().tobytes())\n",
    "    # with open(f\"./video_cache/{name}\", \"wb\") as outfile:\n",
    "    #     # Copy the BytesIO stream to the output file\n",
    "    #     outfile.write(file.getbuffer())"
   ]
  },
  {
   "cell_type": "code",
   "execution_count": 58,
   "metadata": {},
   "outputs": [],
   "source": [
    "sheet_id = '1c54uBdMLrTcVQfkZOxjsP59ftf6PbGgTv5T9QhU6gUc'\n",
    "result = sheet.values().get(spreadsheetId=sheet_id,range='D:D').execute()['values']"
   ]
  },
  {
   "cell_type": "code",
   "execution_count": 62,
   "metadata": {},
   "outputs": [],
   "source": [
    "def flatten(l):\n",
    "    return [item for sublist in l for item in sublist]"
   ]
  },
  {
   "cell_type": "code",
   "execution_count": 64,
   "metadata": {},
   "outputs": [],
   "source": [
    "result = flatten(result)"
   ]
  },
  {
   "cell_type": "code",
   "execution_count": 65,
   "metadata": {},
   "outputs": [
    {
     "data": {
      "text/plain": [
       "['https://drive.google.com/file/d/17E9Z_rKqHlDoygN1PIZQuigaRREM8rNT/view?usp=sharing',\n",
       " 'https://drive.google.com/file/d/1hn4sMoIY4t0g68QiUCFL1D7T2AsU0Pjt/view?usp=drivesdk',\n",
       " 'https://drive.google.com/file/d/17fe1P_QZfXbTlQB889xGXOMednolxbNp/view?usp=sharing',\n",
       " 'https://drive.google.com/file/d/19EFTPe9AntLX3x69ZY2dTQAMPUK1og3P/view?usp=drivesdk',\n",
       " 'https://drive.google.com/file/d/1v4wwuHJfohAyITv4dRSFjNqk3YTA_MCg/view?usp=sharing',\n",
       " 'https://drive.google.com/file/d/1n6uMxdjp3MloaHqXPUYDvBl6X8caGDyY/view?usp=sharing',\n",
       " 'https://drive.google.com/file/d/12vqF_g3x5lWb20TZJ2KUkTrE9qCrpwiQ/view?usp=sharing',\n",
       " 'https://drive.google.com/file/d/1zMdrcOjepjn30b4fpfWe0mL7XCvOWFg8/view?usp=sharing',\n",
       " 'https://drive.google.com/file/d/17mGA-ZeKHOXxlSRrTiBQDjlXf_776BFG/view?usp=sharing',\n",
       " 'https://drive.google.com/file/d/1ig6OoyjVQhUf9qcS11OwU3D9R-s3jV8q/view?usp=drivesdk',\n",
       " 'https://drive.google.com/file/d/1DVhTel85El9eF7GyRDaZf7zHqAiAzBYl/view?usp=sharing',\n",
       " 'https://drive.google.com/file/d/14soTw3e8qKwWrRISwIgdrDNnZEStQ-Xe/view?usp=sharing',\n",
       " 'https://drive.google.com/file/d/1aiHnOAGsV3QsLxWVITtHGFpu7Qx_CFMB/view?usp=sharing',\n",
       " 'https://drive.google.com/file/d/170vWjLYgn6CgXpKOxmlpj4SGbXbKD08G/view?usp=sharing',\n",
       " 'https://drive.google.com/file/d/16bEol1Ws-zQGtuaXjmfFVkKBwviskIzp/view?usp=sharing',\n",
       " 'https://drive.google.com/file/d/1x1LwQO_B2PNt31vcBkBAvfwdhDDWMqzZ/view?usp=sharing',\n",
       " 'https://drive.google.com/file/d/1IPf5VMx-nd0JKTrl-iz4j8WuJNiTt56Q/view?usp=drivesdk']"
      ]
     },
     "execution_count": 65,
     "metadata": {},
     "output_type": "execute_result"
    }
   ],
   "source": [
    "list(filter(lambda x: x.startswith('https'), result))"
   ]
  },
  {
   "cell_type": "code",
   "execution_count": 72,
   "metadata": {},
   "outputs": [],
   "source": [
    "urltoid = lambda x: x.split(\"/\")[5]"
   ]
  },
  {
   "cell_type": "code",
   "execution_count": 102,
   "metadata": {},
   "outputs": [],
   "source": [
    "driveid = urltoid('https://drive.google.com/file/d/14soTw3e8qKwWrRISwIgdrDNnZEStQ-Xe/view?usp=sharing')"
   ]
  },
  {
   "cell_type": "code",
   "execution_count": 103,
   "metadata": {},
   "outputs": [
    {
     "name": "stdout",
     "output_type": "stream",
     "text": [
      "Download 14.\n",
      "Download 29.\n",
      "Download 43.\n",
      "Download 58.\n",
      "Download 72.\n",
      "Download 87.\n",
      "Download 100.\n"
     ]
    }
   ],
   "source": [
    "download_video(drive, driveid)"
   ]
  },
  {
   "cell_type": "code",
   "execution_count": null,
   "metadata": {},
   "outputs": [],
   "source": []
  }
 ],
 "metadata": {
  "kernelspec": {
   "display_name": "Python 3.8.8 ('mypython': venv)",
   "language": "python",
   "name": "python3"
  },
  "language_info": {
   "codemirror_mode": {
    "name": "ipython",
    "version": 3
   },
   "file_extension": ".py",
   "mimetype": "text/x-python",
   "name": "python",
   "nbconvert_exporter": "python",
   "pygments_lexer": "ipython3",
   "version": "3.8.8"
  },
  "orig_nbformat": 4,
  "vscode": {
   "interpreter": {
    "hash": "4a70e1b6b77ccdb82bff94a9fb2379f91cc95aeb9d5c11ab66ef65b3100658e1"
   }
  }
 },
 "nbformat": 4,
 "nbformat_minor": 2
}
